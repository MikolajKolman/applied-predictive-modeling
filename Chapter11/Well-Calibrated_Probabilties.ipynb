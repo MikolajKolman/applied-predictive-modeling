{
 "cells": [
  {
   "cell_type": "code",
   "execution_count": 56,
   "id": "f4284442",
   "metadata": {},
   "outputs": [],
   "source": [
    "from sklearn.datasets import load_breast_cancer\n",
    "from sklearn.discriminant_analysis import QuadraticDiscriminantAnalysis, LinearDiscriminantAnalysis\n",
    "from sklearn.linear_model import LogisticRegression\n",
    "from sklearn.model_selection import train_test_split\n",
    "from sklearn.calibration import calibration_curve"
   ]
  },
  {
   "cell_type": "code",
   "execution_count": 31,
   "id": "c8094c39",
   "metadata": {},
   "outputs": [
    {
     "data": {
      "text/html": [
       "<div>\n",
       "<style scoped>\n",
       "    .dataframe tbody tr th:only-of-type {\n",
       "        vertical-align: middle;\n",
       "    }\n",
       "\n",
       "    .dataframe tbody tr th {\n",
       "        vertical-align: top;\n",
       "    }\n",
       "\n",
       "    .dataframe thead th {\n",
       "        text-align: right;\n",
       "    }\n",
       "</style>\n",
       "<table border=\"1\" class=\"dataframe\">\n",
       "  <thead>\n",
       "    <tr style=\"text-align: right;\">\n",
       "      <th></th>\n",
       "      <th>mean radius</th>\n",
       "      <th>mean texture</th>\n",
       "      <th>mean area</th>\n",
       "    </tr>\n",
       "  </thead>\n",
       "  <tbody>\n",
       "    <tr>\n",
       "      <th>0</th>\n",
       "      <td>17.99</td>\n",
       "      <td>10.38</td>\n",
       "      <td>1001.0</td>\n",
       "    </tr>\n",
       "    <tr>\n",
       "      <th>1</th>\n",
       "      <td>20.57</td>\n",
       "      <td>17.77</td>\n",
       "      <td>1326.0</td>\n",
       "    </tr>\n",
       "    <tr>\n",
       "      <th>2</th>\n",
       "      <td>19.69</td>\n",
       "      <td>21.25</td>\n",
       "      <td>1203.0</td>\n",
       "    </tr>\n",
       "    <tr>\n",
       "      <th>3</th>\n",
       "      <td>11.42</td>\n",
       "      <td>20.38</td>\n",
       "      <td>386.1</td>\n",
       "    </tr>\n",
       "    <tr>\n",
       "      <th>4</th>\n",
       "      <td>20.29</td>\n",
       "      <td>14.34</td>\n",
       "      <td>1297.0</td>\n",
       "    </tr>\n",
       "    <tr>\n",
       "      <th>...</th>\n",
       "      <td>...</td>\n",
       "      <td>...</td>\n",
       "      <td>...</td>\n",
       "    </tr>\n",
       "    <tr>\n",
       "      <th>564</th>\n",
       "      <td>21.56</td>\n",
       "      <td>22.39</td>\n",
       "      <td>1479.0</td>\n",
       "    </tr>\n",
       "    <tr>\n",
       "      <th>565</th>\n",
       "      <td>20.13</td>\n",
       "      <td>28.25</td>\n",
       "      <td>1261.0</td>\n",
       "    </tr>\n",
       "    <tr>\n",
       "      <th>566</th>\n",
       "      <td>16.60</td>\n",
       "      <td>28.08</td>\n",
       "      <td>858.1</td>\n",
       "    </tr>\n",
       "    <tr>\n",
       "      <th>567</th>\n",
       "      <td>20.60</td>\n",
       "      <td>29.33</td>\n",
       "      <td>1265.0</td>\n",
       "    </tr>\n",
       "    <tr>\n",
       "      <th>568</th>\n",
       "      <td>7.76</td>\n",
       "      <td>24.54</td>\n",
       "      <td>181.0</td>\n",
       "    </tr>\n",
       "  </tbody>\n",
       "</table>\n",
       "<p>569 rows × 3 columns</p>\n",
       "</div>"
      ],
      "text/plain": [
       "     mean radius  mean texture  mean area\n",
       "0          17.99         10.38     1001.0\n",
       "1          20.57         17.77     1326.0\n",
       "2          19.69         21.25     1203.0\n",
       "3          11.42         20.38      386.1\n",
       "4          20.29         14.34     1297.0\n",
       "..           ...           ...        ...\n",
       "564        21.56         22.39     1479.0\n",
       "565        20.13         28.25     1261.0\n",
       "566        16.60         28.08      858.1\n",
       "567        20.60         29.33     1265.0\n",
       "568         7.76         24.54      181.0\n",
       "\n",
       "[569 rows x 3 columns]"
      ]
     },
     "execution_count": 31,
     "metadata": {},
     "output_type": "execute_result"
    }
   ],
   "source": [
    "df_x, df_y = load_breast_cancer(as_frame=True, return_X_y=True)\n",
    "df_x = df_x[['mean radius', 'mean texture', 'mean area']]\n",
    "df_x"
   ]
  },
  {
   "cell_type": "code",
   "execution_count": 32,
   "id": "5bbc3e3f",
   "metadata": {},
   "outputs": [
    {
     "data": {
      "text/plain": [
       "0      0\n",
       "1      0\n",
       "2      0\n",
       "3      0\n",
       "4      0\n",
       "      ..\n",
       "564    0\n",
       "565    0\n",
       "566    0\n",
       "567    0\n",
       "568    1\n",
       "Name: target, Length: 569, dtype: int32"
      ]
     },
     "execution_count": 32,
     "metadata": {},
     "output_type": "execute_result"
    }
   ],
   "source": [
    "df_y"
   ]
  },
  {
   "cell_type": "code",
   "execution_count": 33,
   "id": "1dcb5d76",
   "metadata": {},
   "outputs": [],
   "source": [
    "X_train, X_test, Y_train, Y_test = train_test_split(df_x, df_y)"
   ]
  },
  {
   "cell_type": "code",
   "execution_count": 34,
   "id": "d10423a9",
   "metadata": {},
   "outputs": [
    {
     "name": "stdout",
     "output_type": "stream",
     "text": [
      "Accuracy = 0.8531468531468531\n"
     ]
    }
   ],
   "source": [
    "model = LogisticRegression(penalty='none')\n",
    "model.fit(X_train, Y_train)\n",
    "print(f'Accuracy = {model.score(X_test, Y_test)}')\n",
    "predictions = model.predict_proba(X_test)"
   ]
  },
  {
   "cell_type": "code",
   "execution_count": 35,
   "id": "054438d5",
   "metadata": {},
   "outputs": [
    {
     "data": {
      "text/plain": [
       "array([[7.62151666e-02, 9.23784833e-01],\n",
       "       [9.99971911e-01, 2.80891971e-05],\n",
       "       [4.82444814e-01, 5.17555186e-01],\n",
       "       [9.98944463e-01, 1.05553685e-03],\n",
       "       [2.53423198e-01, 7.46576802e-01],\n",
       "       [6.60432118e-02, 9.33956788e-01],\n",
       "       [1.62360793e-02, 9.83763921e-01],\n",
       "       [1.79388569e-02, 9.82061143e-01],\n",
       "       [1.54813968e-01, 8.45186032e-01],\n",
       "       [3.98109950e-02, 9.60189005e-01],\n",
       "       [3.96024061e-01, 6.03975939e-01],\n",
       "       [9.99926841e-01, 7.31593587e-05],\n",
       "       [3.66286559e-02, 9.63371344e-01],\n",
       "       [9.13717417e-01, 8.62825827e-02],\n",
       "       [1.41171234e-02, 9.85882877e-01],\n",
       "       [1.06132330e-02, 9.89386767e-01],\n",
       "       [2.62975845e-01, 7.37024155e-01],\n",
       "       [9.31127687e-01, 6.88723133e-02],\n",
       "       [4.50149221e-02, 9.54985078e-01],\n",
       "       [3.85223062e-02, 9.61477694e-01],\n",
       "       [2.15905443e-02, 9.78409456e-01],\n",
       "       [1.95568813e-01, 8.04431187e-01],\n",
       "       [9.99999124e-01, 8.75789257e-07],\n",
       "       [3.31775005e-02, 9.66822500e-01],\n",
       "       [7.78103071e-02, 9.22189693e-01],\n",
       "       [8.39025230e-02, 9.16097477e-01],\n",
       "       [5.77908038e-01, 4.22091962e-01],\n",
       "       [4.09399625e-01, 5.90600375e-01],\n",
       "       [9.99999834e-01, 1.66303135e-07],\n",
       "       [7.89897359e-02, 9.21010264e-01],\n",
       "       [9.99943494e-01, 5.65062605e-05],\n",
       "       [9.93963210e-01, 6.03678991e-03],\n",
       "       [6.07475180e-02, 9.39252482e-01],\n",
       "       [6.23649746e-02, 9.37635025e-01],\n",
       "       [9.99910145e-01, 8.98549873e-05],\n",
       "       [7.16717808e-03, 9.92832822e-01],\n",
       "       [2.51285736e-01, 7.48714264e-01],\n",
       "       [6.95505387e-02, 9.30449461e-01],\n",
       "       [1.87704233e-01, 8.12295767e-01],\n",
       "       [1.03431604e-01, 8.96568396e-01],\n",
       "       [9.12823690e-01, 8.71763104e-02],\n",
       "       [9.89301222e-01, 1.06987782e-02],\n",
       "       [9.86812052e-01, 1.31879477e-02],\n",
       "       [1.23723875e-02, 9.87627613e-01],\n",
       "       [1.27964095e-02, 9.87203590e-01],\n",
       "       [9.99999538e-01, 4.62050746e-07],\n",
       "       [1.14958294e-01, 8.85041706e-01],\n",
       "       [6.27107665e-02, 9.37289234e-01],\n",
       "       [9.98450221e-01, 1.54977878e-03],\n",
       "       [9.99866033e-01, 1.33967351e-04],\n",
       "       [4.89049476e-02, 9.51095052e-01],\n",
       "       [1.73165106e-02, 9.82683489e-01],\n",
       "       [6.02700275e-01, 3.97299725e-01],\n",
       "       [1.59327415e-02, 9.84067259e-01],\n",
       "       [3.72199983e-01, 6.27800017e-01],\n",
       "       [9.52714600e-01, 4.72854000e-02],\n",
       "       [3.31898898e-02, 9.66810110e-01],\n",
       "       [5.33392881e-01, 4.66607119e-01],\n",
       "       [2.61107078e-01, 7.38892922e-01],\n",
       "       [1.01236390e-01, 8.98763610e-01],\n",
       "       [1.10519566e-01, 8.89480434e-01],\n",
       "       [1.00000000e+00, 1.43476780e-17],\n",
       "       [1.38048153e-02, 9.86195185e-01],\n",
       "       [5.13307197e-02, 9.48669280e-01],\n",
       "       [3.25456206e-01, 6.74543794e-01],\n",
       "       [9.76830434e-02, 9.02316957e-01],\n",
       "       [3.83055518e-01, 6.16944482e-01],\n",
       "       [9.61354718e-01, 3.86452819e-02],\n",
       "       [7.63268297e-01, 2.36731703e-01],\n",
       "       [9.99999993e-01, 6.87130398e-09],\n",
       "       [7.71492515e-02, 9.22850748e-01],\n",
       "       [6.97322635e-03, 9.93026774e-01],\n",
       "       [1.90467799e-02, 9.80953220e-01],\n",
       "       [5.25990336e-02, 9.47400966e-01],\n",
       "       [1.79221028e-02, 9.82077897e-01],\n",
       "       [1.25795560e-02, 9.87420444e-01],\n",
       "       [2.36438992e-01, 7.63561008e-01],\n",
       "       [5.10776274e-01, 4.89223726e-01],\n",
       "       [6.41277717e-01, 3.58722283e-01],\n",
       "       [5.59513561e-02, 9.44048644e-01],\n",
       "       [2.73427184e-02, 9.72657282e-01],\n",
       "       [1.47085959e-02, 9.85291404e-01],\n",
       "       [9.89112949e-01, 1.08870510e-02],\n",
       "       [9.88576819e-01, 1.14231808e-02],\n",
       "       [6.72060500e-03, 9.93279395e-01],\n",
       "       [4.75619941e-02, 9.52438006e-01],\n",
       "       [3.53108982e-02, 9.64689102e-01],\n",
       "       [7.16688621e-02, 9.28331138e-01],\n",
       "       [3.36516204e-02, 9.66348380e-01],\n",
       "       [2.58533549e-02, 9.74146645e-01],\n",
       "       [7.59660273e-01, 2.40339727e-01],\n",
       "       [3.31151696e-01, 6.68848304e-01],\n",
       "       [5.27296720e-01, 4.72703280e-01],\n",
       "       [4.57731627e-02, 9.54226837e-01],\n",
       "       [4.42509397e-01, 5.57490603e-01],\n",
       "       [6.78644914e-03, 9.93213551e-01],\n",
       "       [8.99392106e-01, 1.00607894e-01],\n",
       "       [1.86086422e-02, 9.81391358e-01],\n",
       "       [3.72191901e-02, 9.62780810e-01],\n",
       "       [6.32129770e-01, 3.67870230e-01],\n",
       "       [2.12276642e-01, 7.87723358e-01],\n",
       "       [3.17226821e-02, 9.68277318e-01],\n",
       "       [1.72675916e-01, 8.27324084e-01],\n",
       "       [2.01406979e-01, 7.98593021e-01],\n",
       "       [2.64845434e-01, 7.35154566e-01],\n",
       "       [8.73574697e-01, 1.26425303e-01],\n",
       "       [7.69876630e-01, 2.30123370e-01],\n",
       "       [9.99826679e-01, 1.73320546e-04],\n",
       "       [9.97444898e-01, 2.55510242e-03],\n",
       "       [2.20166752e-01, 7.79833248e-01],\n",
       "       [1.88422166e-01, 8.11577834e-01],\n",
       "       [4.97281940e-02, 9.50271806e-01],\n",
       "       [8.15231385e-01, 1.84768615e-01],\n",
       "       [9.99995788e-01, 4.21208778e-06],\n",
       "       [9.98686453e-01, 1.31354681e-03],\n",
       "       [2.04387088e-02, 9.79561291e-01],\n",
       "       [8.07087569e-01, 1.92912431e-01],\n",
       "       [9.99744651e-01, 2.55349434e-04],\n",
       "       [7.62775744e-01, 2.37224256e-01],\n",
       "       [9.46943210e-02, 9.05305679e-01],\n",
       "       [1.43412985e-01, 8.56587015e-01],\n",
       "       [6.64876366e-02, 9.33512363e-01],\n",
       "       [2.33630638e-02, 9.76636936e-01],\n",
       "       [7.56740438e-01, 2.43259562e-01],\n",
       "       [2.01881639e-02, 9.79811836e-01],\n",
       "       [5.40359517e-02, 9.45964048e-01],\n",
       "       [9.98741391e-01, 1.25860897e-03],\n",
       "       [9.68449725e-01, 3.15502749e-02],\n",
       "       [1.09356459e-02, 9.89064354e-01],\n",
       "       [1.31144422e-02, 9.86885558e-01],\n",
       "       [9.99954987e-01, 4.50128115e-05],\n",
       "       [9.99972601e-01, 2.73987927e-05],\n",
       "       [1.53406523e-02, 9.84659348e-01],\n",
       "       [4.87231333e-02, 9.51276867e-01],\n",
       "       [4.86825815e-01, 5.13174185e-01],\n",
       "       [6.26607341e-01, 3.73392659e-01],\n",
       "       [1.00562188e-01, 8.99437812e-01],\n",
       "       [4.28299314e-02, 9.57170069e-01],\n",
       "       [5.27559778e-01, 4.72440222e-01],\n",
       "       [9.99954823e-01, 4.51772337e-05],\n",
       "       [2.22218148e-02, 9.77778185e-01],\n",
       "       [2.88200414e-02, 9.71179959e-01],\n",
       "       [4.85614842e-02, 9.51438516e-01]])"
      ]
     },
     "execution_count": 35,
     "metadata": {},
     "output_type": "execute_result"
    }
   ],
   "source": [
    "predictions"
   ]
  },
  {
   "cell_type": "code",
   "execution_count": 88,
   "id": "816801b7",
   "metadata": {},
   "outputs": [],
   "source": [
    "number_bins = 5\n",
    "bins = np.linspace(0, 1, number_bins + 1)\n",
    "bin_midpoints = np.empty(number_bins)\n",
    "for i in range(number_bins):\n",
    "    bin_midpoints[i] = np.mean((bins[i], bins[i + 1]))\n",
    "# Take the values for the class label 1.\n",
    "predictions_binned = np.digitize(predictions[:, 1], bins, right=True)"
   ]
  },
  {
   "cell_type": "code",
   "execution_count": 93,
   "id": "2bb0103e",
   "metadata": {},
   "outputs": [
    {
     "data": {
      "text/plain": [
       "(array([0.02777778, 0.66666667, 0.44444444, 0.64285714, 0.96      ]),\n",
       " array([0.02848406, 0.29832928, 0.50020963, 0.71629899, 0.94666103]))"
      ]
     },
     "execution_count": 93,
     "metadata": {},
     "output_type": "execute_result"
    }
   ],
   "source": [
    "observed_1s = np.empty(number_bins)\n",
    "prob_pred = np.empty(number_bins)\n",
    "for i, predicted_bin in enumerate(range(1, number_bins + 1)):\n",
    "    # Find predictions in the specific bin.\n",
    "    bin_mask = predictions_binned == predicted_bin\n",
    "    # Now find out how many of observations in that bin belong to the first class.\n",
    "    real = Y_test[bin_mask]\n",
    "    # The first class in the model.predict is class 0 in df.\n",
    "    ones = np.sum(real == 1)\n",
    "    zeros = np.sum(real == 0)\n",
    "    observed_1s_percent = ones / (ones + zeros)\n",
    "    observed_1s[i] = observed_1s_percent\n",
    "    # Calculate mean probability from predictions in a bin.\n",
    "    prob_pred[i] = np.mean(predictions[:, 1][bin_mask])\n",
    "(observed_1s, prob_pred)"
   ]
  },
  {
   "cell_type": "code",
   "execution_count": 78,
   "id": "677e9293",
   "metadata": {},
   "outputs": [
    {
     "data": {
      "text/plain": [
       "(array([0.02777778, 0.66666667, 0.44444444, 0.64285714, 0.96      ]),\n",
       " array([0.02848406, 0.29832928, 0.50020963, 0.71629899, 0.94666103]))"
      ]
     },
     "execution_count": 78,
     "metadata": {},
     "output_type": "execute_result"
    }
   ],
   "source": [
    "calibration_curve(y_true=Y_test, y_prob=predictions[:, 1])"
   ]
  },
  {
   "cell_type": "code",
   "execution_count": 111,
   "id": "48253733",
   "metadata": {},
   "outputs": [
    {
     "data": {
      "image/png": "[encoded data removed]",
      "text/plain": [
       "<Figure size 1152x691.2 with 1 Axes>"
      ]
     },
     "metadata": {},
     "output_type": "display_data"
    }
   ],
   "source": [
    "plt.plot([0, 1], [0, 1], linestyle='--', linewidth=2, label='Perfect calibration')\n",
    "plt.plot(bin_midpoints, observed_1s, marker='s', label='With Bin Midpoints')\n",
    "plt.plot(prob_pred, observed_1s, marker='o', label='With Mean Probabilities')\n",
    "plt.xlabel('Calculated Percentage')\n",
    "plt.ylabel('Observed Percentage')\n",
    "plt.legend();"
   ]
  },
  {
   "cell_type": "code",
   "execution_count": null,
   "id": "7aa0258a",
   "metadata": {},
   "outputs": [],
   "source": []
  }
 ],
 "metadata": {
  "kernelspec": {
   "display_name": "Python 3",
   "language": "python",
   "name": "python3"
  },
  "language_info": {
   "codemirror_mode": {
    "name": "ipython",
    "version": 3
   },
   "file_extension": ".py",
   "mimetype": "text/x-python",
   "name": "python",
   "nbconvert_exporter": "python",
   "pygments_lexer": "ipython3",
   "version": "3.9.5"
  }
 },
 "nbformat": 4,
 "nbformat_minor": 5
}
